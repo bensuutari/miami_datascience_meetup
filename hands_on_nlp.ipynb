{
 "cells": [
  {
   "cell_type": "markdown",
   "metadata": {},
   "source": [
    "## Hi!"
   ]
  },
  {
   "cell_type": "markdown",
   "metadata": {},
   "source": [
    "Welcome to Hands-On NLP! In this notebook I'll give you an interactive tour of a type of problem that I'm working on right now, named entity recognition.  I hope this will give you an idea of how to deal with various types of NLP problems, and you can take some of the things here and generalize them.\n",
    "\n",
    "In this notebook, we'll be using a dataset from the The Groningen Meaning Bank (https://www.semanticscholar.org/paper/The-Groningen-Meaning-Bank-Bos/a86b5a3d2d23f00b7f3b5c45132ece7d125d4f8c) which contains about 50,000 English sentences annotated by the named entities they contain."
   ]
  },
  {
   "cell_type": "markdown",
   "metadata": {},
   "source": [
    "# 1. Let's load the data and give it a browse"
   ]
  },
  {
   "cell_type": "code",
   "execution_count": 1,
   "metadata": {},
   "outputs": [
    {
     "name": "stdout",
     "output_type": "stream",
     "text": [
      "47959\n"
     ]
    }
   ],
   "source": [
    "import pandas as pd\n",
    "\n",
    "data = pd.read_csv('data/ner_dataset.csv',encoding='latin1')\n",
    "#The format of the csv is such that it only defines Sentence # for the first word in a sentence\n",
    "#and then the words that follow in the sentence are null until the next sentence\n",
    "#Use fillna to fill these in sequentially\n",
    "data.fillna(method=\"ffill\",inplace=True)\n",
    "print(data['Sentence #'].unique().shape[0])\n",
    "max_len = 75\n",
    "max_len_char = 10"
   ]
  },
  {
   "cell_type": "code",
   "execution_count": 2,
   "metadata": {},
   "outputs": [
    {
     "data": {
      "text/plain": [
       "O        0.846776\n",
       "B-geo    0.035900\n",
       "B-tim    0.019391\n",
       "B-org    0.019210\n",
       "I-per    0.016452\n",
       "B-per    0.016203\n",
       "I-org    0.016006\n",
       "B-gpe    0.015135\n",
       "I-geo    0.007071\n",
       "I-tim    0.006226\n",
       "B-art    0.000383\n",
       "B-eve    0.000294\n",
       "I-art    0.000283\n",
       "I-eve    0.000241\n",
       "B-nat    0.000192\n",
       "I-gpe    0.000189\n",
       "I-nat    0.000049\n",
       "Name: Tag, dtype: float64"
      ]
     },
     "execution_count": 2,
     "metadata": {},
     "output_type": "execute_result"
    }
   ],
   "source": [
    "data['Tag'].value_counts()/data['Tag'].value_counts().sum()"
   ]
  },
  {
   "cell_type": "markdown",
   "metadata": {},
   "source": [
    "Looks like we've got a very sparse dataset, with 'O' (outside of entity) being the vast majority of tags, which makes sense.  A lot of langauge is grammar, pronouns, broader ideas, etc. and not named entities.  "
   ]
  },
  {
   "cell_type": "markdown",
   "metadata": {},
   "source": [
    "## What are the different entities?  Can we get some examples?"
   ]
  },
  {
   "cell_type": "code",
   "execution_count": 3,
   "metadata": {},
   "outputs": [
    {
     "name": "stdout",
     "output_type": "stream",
     "text": [
      "________\n",
      "B-art\n",
      "________\n",
      "263       Nuclear\n",
      "3769     Saltillo\n",
      "3810    Pentastar\n",
      "3814     Chrysler\n",
      "3816        Dodge\n",
      "3818         Jeep\n",
      "3820          Ram\n",
      "3863        Vioxx\n",
      "3951        Vioxx\n",
      "3962        Vioxx\n",
      "3982        Vioxx\n",
      "4015          The\n",
      "4141         Good\n",
      "4150        20/20\n",
      "5234          Web\n",
      "5243      english\n",
      "5247        Daily\n",
      "5253          Web\n",
      "5698      alHurra\n",
      "5922      Charles\n",
      "Name: Word, dtype: object\n",
      "________\n",
      "I-art\n",
      "________\n",
      "264     Non-Proliferation\n",
      "3811                  V-6\n",
      "4016               Simple\n",
      "4017                 Life\n",
      "4142              Morning\n",
      "4143              America\n",
      "5248               Mirror\n",
      "5923                   De\n",
      "5924               Gaulle\n",
      "5935        International\n",
      "5936              Airport\n",
      "6776                   of\n",
      "6777               Tennis\n",
      "6778        Professionals\n",
      "6779                 Tour\n",
      "7132                House\n",
      "7133                 Rose\n",
      "7134               Garden\n",
      "8207               Street\n",
      "8283                    3\n",
      "Name: Word, dtype: object\n",
      "________\n",
      "B-eve\n",
      "________\n",
      "4853           2012\n",
      "4887          Games\n",
      "5001          Games\n",
      "5035           2008\n",
      "5170      Operation\n",
      "5763           Gulf\n",
      "6729     Australian\n",
      "6755        Kooyong\n",
      "6833     Australian\n",
      "9989          World\n",
      "12753         World\n",
      "15690        Ashura\n",
      "15765     Christmas\n",
      "19187       Olympic\n",
      "19196       Olympic\n",
      "19272       Olympic\n",
      "19284       Olympic\n",
      "19292       Olympic\n",
      "20809        Delray\n",
      "21971            II\n",
      "Name: Word, dtype: object\n",
      "________\n",
      "I-eve\n",
      "________\n",
      "4854            Summer\n",
      "4855          Olympics\n",
      "5036           Olympic\n",
      "5171            Medusa\n",
      "5764               War\n",
      "6730              Open\n",
      "6756           Classic\n",
      "6834              Open\n",
      "9990               War\n",
      "9991                II\n",
      "12754              War\n",
      "12755                I\n",
      "19188            Games\n",
      "19273            Games\n",
      "20810            Beach\n",
      "20811    International\n",
      "32345           Gustav\n",
      "39056             Wars\n",
      "39057                I\n",
      "39065              War\n",
      "Name: Word, dtype: object\n",
      "________\n",
      "B-geo\n",
      "________\n",
      "6         London\n",
      "12          Iraq\n",
      "65          Hyde\n",
      "94       Britain\n",
      "106     Brighton\n",
      "118         Iraq\n",
      "133       London\n",
      "146         Rome\n",
      "148        Paris\n",
      "151       Madrid\n",
      "166       Vienna\n",
      "192      Isfahan\n",
      "315      Nigeria\n",
      "319        Delta\n",
      "346        Delta\n",
      "349      Bayelsa\n",
      "380        Niger\n",
      "440      Somalia\n",
      "461    Mogadishu\n",
      "492    Mogadishu\n",
      "Name: Word, dtype: object\n",
      "________\n",
      "I-geo\n",
      "________\n",
      "66            Park\n",
      "347          State\n",
      "350          State\n",
      "381          Delta\n",
      "561           Arab\n",
      "796           West\n",
      "797       Frontier\n",
      "798       Province\n",
      "1112    Waziristan\n",
      "1122           Wam\n",
      "1165    Waziristan\n",
      "1949        Darfur\n",
      "1976        Darfur\n",
      "2305    Waziristan\n",
      "2620        states\n",
      "3076          Bank\n",
      "3521          Jose\n",
      "3524          Rica\n",
      "3596          City\n",
      "3610         Strip\n",
      "Name: Word, dtype: object\n",
      "________\n",
      "B-gpe\n",
      "________\n",
      "18      British\n",
      "102     English\n",
      "113     Britain\n",
      "126     British\n",
      "173        Iran\n",
      "181        Iran\n",
      "196     Iranian\n",
      "238        U.S.\n",
      "245        Iran\n",
      "259      Tehran\n",
      "267        Iran\n",
      "276    European\n",
      "281        Iran\n",
      "293     Iranian\n",
      "297     Germans\n",
      "300    Nigerian\n",
      "326      German\n",
      "363      German\n",
      "417     Nigeria\n",
      "515      Somali\n",
      "Name: Word, dtype: object\n",
      "________\n",
      "I-gpe\n",
      "________\n",
      "1225      States\n",
      "1264       Korea\n",
      "2713        Binh\n",
      "2932       Ababa\n",
      "3466        City\n",
      "5241       Lanka\n",
      "5313       Korea\n",
      "5361       Korea\n",
      "5370       Korea\n",
      "5390       Korea\n",
      "6176      States\n",
      "7264    American\n",
      "7349        Faso\n",
      "7922     African\n",
      "7923    Republic\n",
      "8040    Republic\n",
      "8041          of\n",
      "8042       Congo\n",
      "8426      States\n",
      "9901        Serb\n",
      "Name: Word, dtype: object\n",
      "________\n",
      "B-nat\n",
      "________\n",
      "2723          H5N1\n",
      "4554          H5N1\n",
      "5044          Jing\n",
      "5073          Jing\n",
      "5606          H5N1\n",
      "12506         SARS\n",
      "12508       Severe\n",
      "13162          HIV\n",
      "13164         AIDS\n",
      "22260         AIDS\n",
      "22947    Hurricane\n",
      "23041      Katrina\n",
      "23054    Hurricane\n",
      "28811         Ills\n",
      "29718    Hurricane\n",
      "34812    Hurricane\n",
      "36465         H5N2\n",
      "43466       XDR-TB\n",
      "54434      Marburg\n",
      "60760         H5N1\n",
      "Name: Word, dtype: object\n",
      "________\n",
      "I-nat\n",
      "________\n",
      "5045             Jing\n",
      "5074             Jing\n",
      "12509           Acute\n",
      "12510     Respiratory\n",
      "12511        Syndrome\n",
      "22948         Katrina\n",
      "23055         Katrina\n",
      "29719         Katrina\n",
      "34813         Katrina\n",
      "68389         Katrina\n",
      "91303         Katrina\n",
      "107418        Katrina\n",
      "110107        Katrina\n",
      "110169        Katrina\n",
      "115486        Katrina\n",
      "120764        Katrina\n",
      "120856        Katrina\n",
      "129813        Katrina\n",
      "131770        Katrina\n",
      "147726          Storm\n",
      "Name: Word, dtype: object\n",
      "________\n",
      "B-org\n",
      "________\n",
      "97             Labor\n",
      "154    International\n",
      "215             IAEA\n",
      "234         European\n",
      "248             U.N.\n",
      "328        Bilfinger\n",
      "359      Royal-Dutch\n",
      "370            Shell\n",
      "543               al\n",
      "597               al\n",
      "633            Sunni\n",
      "667           Muslim\n",
      "692      Brotherhood\n",
      "702      Brotherhood\n",
      "718           Muslim\n",
      "765           Muslim\n",
      "834         Mutahida\n",
      "936          Taleban\n",
      "963            Islam\n",
      "990          British\n",
      "Name: Word, dtype: object\n",
      "________\n",
      "I-org\n",
      "________\n",
      "98             Party\n",
      "155           Atomic\n",
      "156           Energy\n",
      "157           Agency\n",
      "235            Union\n",
      "249         Security\n",
      "250          Council\n",
      "329           Berger\n",
      "360            Shell\n",
      "544            Qaida\n",
      "545               in\n",
      "546             Iraq\n",
      "598            Qaida\n",
      "599               in\n",
      "600             Iraq\n",
      "668      Brotherhood\n",
      "719      Brotherhood\n",
      "766      Brotherhood\n",
      "835    Majlis-e-Amal\n",
      "991             Home\n",
      "Name: Word, dtype: object\n",
      "________\n",
      "B-per\n",
      "________\n",
      "42              Bush\n",
      "270        President\n",
      "331           Thomas\n",
      "443        President\n",
      "965          Prophet\n",
      "973             Omar\n",
      "997           Khayam\n",
      "1055          Khayam\n",
      "1105           Malik\n",
      "1240           Abdul\n",
      "1297            Khan\n",
      "1485    Nancy-Amelia\n",
      "1532             Tim\n",
      "1589        Harcourt\n",
      "1712        Harcourt\n",
      "1760        Harcourt\n",
      "1861         Foreign\n",
      "1891             Mr.\n",
      "2037         Cholily\n",
      "2062         Azahari\n",
      "Name: Word, dtype: object\n",
      "________\n",
      "I-per\n",
      "________\n",
      "271         Mahmoud\n",
      "272     Ahmadinejad\n",
      "332         Horbach\n",
      "444       Abdullahi\n",
      "445           Yusuf\n",
      "446           Ahmad\n",
      "966        Muhammad\n",
      "974          Khayam\n",
      "1106     Faridullah\n",
      "1107           Khan\n",
      "1241         Qadeer\n",
      "1242           Khan\n",
      "1486        Collins\n",
      "1533       Harcourt\n",
      "1862       Minister\n",
      "1863        Mustafa\n",
      "1864          Osman\n",
      "1865         Ismail\n",
      "1892         Ismail\n",
      "2063            bin\n",
      "Name: Word, dtype: object\n",
      "________\n",
      "B-tim\n",
      "________\n",
      "167     Wednesday\n",
      "211     Wednesday\n",
      "274       Tuesday\n",
      "341     Wednesday\n",
      "493     Wednesday\n",
      "654        Sunday\n",
      "679      Saturday\n",
      "684        Friday\n",
      "740      Saturday\n",
      "848      Thursday\n",
      "907        Friday\n",
      "971       Tuesday\n",
      "1113       Sunday\n",
      "1187         2001\n",
      "1300         2004\n",
      "1345    Wednesday\n",
      "1478    September\n",
      "1481            9\n",
      "1659         1995\n",
      "1835     Saturday\n",
      "Name: Word, dtype: object\n",
      "________\n",
      "I-tim\n",
      "________\n",
      "1479           8\n",
      "1993           1\n",
      "4137           2\n",
      "4148           3\n",
      "4979          of\n",
      "4980        2005\n",
      "7896          25\n",
      "7897           ,\n",
      "7898        1995\n",
      "8254           7\n",
      "9214          17\n",
      "9258        2004\n",
      "9965        1995\n",
      "10174      Stone\n",
      "10175        Age\n",
      "10212         25\n",
      "12879          -\n",
      "12880          5\n",
      "13184    century\n",
      "14500         29\n",
      "Name: Word, dtype: object\n"
     ]
    }
   ],
   "source": [
    "all_tags = data['Tag'].unique().tolist()\n",
    "all_tags.remove('O')\n",
    "all_tags.sort(key = lambda x: x.split('-')[1])\n",
    "for tag in all_tags:\n",
    "    print('________')\n",
    "    print(tag)\n",
    "    print('________')\n",
    "    print(data[data['Tag']==tag]['Word'].head(20))"
   ]
  },
  {
   "cell_type": "markdown",
   "metadata": {},
   "source": [
    "Ok!  This is starting to make more sense now.\n",
    "\n",
    "__per__ : Names of people.\n",
    "\n",
    "__geo__ : Names of geographies, specifying a country, state, city, etc.\n",
    "\n",
    "__gpe__ : Names of geopolitical entities, specifying that it's an entity that belongs to a geography, but not a geography itself.\n",
    "\n",
    "__org__ : Names of organizations, groups like Labor Party, Internation Atomic Energy Agency, U.N. Security Council, or companies like Royal-Dutch Shell\n",
    "\n",
    "__tim__ : Times like days of the week, dates, etc.\n",
    "\n",
    "__nat__ : Natural phenomena like disease outbreaks, storms, etc.\n",
    "\n",
    "__eve__ : These are events, like the Olympic Games or the Gulf War.\n",
    "\n",
    "__art__ : Things which are named, but aren't a person, organization, geopolitical entity, time, event, natural event.  Some examples we found were: \"Jeep\", \"Nuclear Non-Proliferation\", \"V-6.\"  These types of named entities look like they can be concepts, things like models of cars, or names of shows, etc."
   ]
  },
  {
   "cell_type": "markdown",
   "metadata": {},
   "source": [
    "Because some of the entities occur at very low frequencies, we're going to set an arbitrary cutoff, and just look at a few types of entities, namely: __geo__, __tim__, __gpe__, __per__, __org__.  This will still give us a lot of useful information and allow us to automatically find geographies, geopolitical entities, times, people, and organizations.  Our computer is going to learn how to read!  They grow up so fast 😭."
   ]
  },
  {
   "cell_type": "code",
   "execution_count": 4,
   "metadata": {},
   "outputs": [],
   "source": [
    "data['Tag'].value_counts()\n",
    "\n",
    "#We'll define a list of tags to include in our model and set the rest to 'O' so they are ignored\n",
    "include_tags = [\n",
    "    'B-geo',\n",
    "    'I-geo',\n",
    "    'B-tim',\n",
    "    'I-tim',\n",
    "    'B-gpe',\n",
    "    'I-gpe',\n",
    "    'B-per',\n",
    "    'I-per',\n",
    "    'B-org',\n",
    "    'I-org',    \n",
    "]\n",
    "\n",
    "#include_tags = data['Tag'].unique().tolist()\n",
    "for tag in data['Tag'].unique():\n",
    "    if tag not in include_tags:\n",
    "        data.loc[data['Tag']==tag,'Tag'] = 'O'\n",
    "        \n",
    "n_tags = data['Tag'].unique().shape[0] #add 1 to account for PAD"
   ]
  },
  {
   "cell_type": "code",
   "execution_count": 5,
   "metadata": {},
   "outputs": [
    {
     "data": {
      "text/plain": [
       "O        0.848218\n",
       "B-geo    0.035900\n",
       "B-tim    0.019391\n",
       "B-org    0.019210\n",
       "I-per    0.016452\n",
       "B-per    0.016203\n",
       "I-org    0.016006\n",
       "B-gpe    0.015135\n",
       "I-geo    0.007071\n",
       "I-tim    0.006226\n",
       "I-gpe    0.000189\n",
       "Name: Tag, dtype: float64"
      ]
     },
     "execution_count": 5,
     "metadata": {},
     "output_type": "execute_result"
    }
   ],
   "source": [
    "data['Tag'].value_counts()/data['Tag'].value_counts().sum()"
   ]
  },
  {
   "cell_type": "markdown",
   "metadata": {},
   "source": [
    "Cool, now we've only got our defined subset of tags, and they're generally >1% of the words in the dataset (with a few exceptions)"
   ]
  },
  {
   "cell_type": "markdown",
   "metadata": {},
   "source": [
    "# 2. Preparing text for model inputs"
   ]
  },
  {
   "cell_type": "markdown",
   "metadata": {},
   "source": [
    "Later, we're going to create a neural networks that can read sentences and find the entities contained.  To accomplish this, the network has to be able to read a sentence word-by-word and find relationships in sequences of words to determine their relationships as entity chunks.  \n",
    "\n",
    "The first thing we'll do, is define a lookup table for all of the words contained in our corpus.  This just takes every single word and gives it an integer value so we can use it in a sparse input matrix.  \n",
    "\n",
    "We'll reserve 0 for \"padding\" values (padding is adding null values to the end of a sentence so that all sentences are the same length) and 1 for \"UNK\" (unknown words that the model has never encountered before).  With these mappings, we can handle any input that is thrown at our model."
   ]
  },
  {
   "cell_type": "code",
   "execution_count": 6,
   "metadata": {},
   "outputs": [],
   "source": [
    "words = data['Word'].unique().tolist()\n",
    "\n",
    "word2idx = {w: i + 2 for i, w in enumerate(words)}\n",
    "word2idx[\"UNK\"] = 1\n",
    "word2idx[\"PAD\"] = 0\n",
    "idx2word = {i: w for w, i in word2idx.items()}\n",
    "tag2idx = {t: i + 1 for i, t in enumerate(data['Tag'].unique().tolist())}\n",
    "tag2idx[\"PAD\"] = 0\n",
    "idx2tag = {i: w for w, i in tag2idx.items()}"
   ]
  },
  {
   "cell_type": "markdown",
   "metadata": {},
   "source": [
    "Now, we'll aggregate our individual word entries into sequences of words, more commonly known as sentences.  We'll also aggregate our `Tags` into corresponding sequences so that we have all of our named entity tags to match up with the words in the sentences."
   ]
  },
  {
   "cell_type": "code",
   "execution_count": 7,
   "metadata": {},
   "outputs": [],
   "source": [
    "agg_func_words = lambda s: [w for w in s[\"Word\"].values.tolist()]\n",
    "X = data.groupby(\"Sentence #\").apply(agg_func_words)\n",
    "\n",
    "agg_func_labels = lambda s: [w for w in s[\"Tag\"].values.tolist()]\n",
    "y = data.groupby(\"Sentence #\").apply(agg_func_labels)\n"
   ]
  },
  {
   "cell_type": "markdown",
   "metadata": {},
   "source": [
    "Ok, now that we've got all of words in our sentences separated out into sequences, let's decide on what we should set our max_len value to.\n",
    "\n",
    "First, we'll take a look at a histogram to give us an idea of how the sentence lengths are distributed."
   ]
  },
  {
   "cell_type": "code",
   "execution_count": 8,
   "metadata": {},
   "outputs": [
    {
     "data": {
      "text/plain": [
       "Text(0.5,1,'Mean=21.86, Median=21.0, StDev=7.96, Max=104, Min=1')"
      ]
     },
     "execution_count": 8,
     "metadata": {},
     "output_type": "execute_result"
    },
    {
     "data": {
      "image/png": "[encoded data removed]",
      "text/plain": [
       "<Figure size 576x576 with 1 Axes>"
      ]
     },
     "metadata": {
      "needs_background": "light"
     },
     "output_type": "display_data"
    }
   ],
   "source": [
    "import matplotlib.pyplot as plt\n",
    "%matplotlib inline\n",
    "plt.figure(figsize=(8,8))\n",
    "sent_lengths = X.apply(len)\n",
    "sent_lengths.hist(bins=30)\n",
    "avg_sent_length = sent_lengths.mean().round(2)\n",
    "med_sent_length = sent_lengths.median().round(2)\n",
    "std_sent_length = sent_lengths.std().round(2)\n",
    "min_sent_length = sent_lengths.min()\n",
    "max_sent_length = sent_lengths.max()\n",
    "plt.ylabel('Counts',fontsize=15)\n",
    "plt.xlabel('Words per sentence',fontsize=15)\n",
    "plt.xticks(fontsize=15)\n",
    "plt.yticks(fontsize=15)\n",
    "plt.title(\n",
    "    'Mean={}, Median={}, StDev={}, Max={}, Min={}'.format(\n",
    "        avg_sent_length,\n",
    "        med_sent_length,\n",
    "        std_sent_length,\n",
    "        max_sent_length,\n",
    "        min_sent_length\n",
    "    ),\n",
    "    fontsize=15\n",
    ")"
   ]
  },
  {
   "cell_type": "markdown",
   "metadata": {},
   "source": [
    "Our sentences are on average ~20 words.  However, they can be as long as 104 words but it looks like that's really rare.  Above ~60 words/sentence, the proportion becomes really low.  Let's see what exactly the counts look like above 60 words/sentence. "
   ]
  },
  {
   "cell_type": "code",
   "execution_count": 9,
   "metadata": {},
   "outputs": [
    {
     "data": {
      "text/plain": [
       "61     3\n",
       "62     3\n",
       "63     2\n",
       "65     1\n",
       "66     3\n",
       "67     1\n",
       "70     3\n",
       "72     1\n",
       "73     1\n",
       "81     1\n",
       "104    1\n",
       "dtype: int64"
      ]
     },
     "execution_count": 9,
     "metadata": {},
     "output_type": "execute_result"
    }
   ],
   "source": [
    "X[X.apply(len)>60].apply(len).value_counts().sort_index()"
   ]
  },
  {
   "cell_type": "markdown",
   "metadata": {},
   "source": [
    "So sentences above 70 words/sentences are extremely rare outliers.  Just to give us a little wiggle room, let's set our `max_len` to 75."
   ]
  },
  {
   "cell_type": "code",
   "execution_count": 10,
   "metadata": {},
   "outputs": [],
   "source": [
    "max_len = 75"
   ]
  },
  {
   "cell_type": "markdown",
   "metadata": {},
   "source": [
    "Now, our model is going to have a defined structure with a definite input and output shape.  Sentences can be different lengths and, in fact, our dataset has sentences of various lengths.  Since our network expects a fixed length, we'll define what that fixed sentence length is (max_len), and do one of two things to each sentence:\n",
    "\n",
    "* Pad sentences that are shorter than `max_len` with the null `PAD` value out to `max_len`\n",
    "\n",
    "* Truncate sentences that are longer than `max_len` to `max_len`"
   ]
  },
  {
   "cell_type": "code",
   "execution_count": 11,
   "metadata": {},
   "outputs": [
    {
     "name": "stderr",
     "output_type": "stream",
     "text": [
      "Using TensorFlow backend.\n"
     ]
    }
   ],
   "source": [
    "from keras.preprocessing.sequence import pad_sequences\n",
    "\n",
    "import numpy as np\n",
    "X_word = [[word2idx[w] for w in s] for s in X.tolist()]\n",
    "X_word = pad_sequences(maxlen=max_len, sequences=X_word, value=word2idx[\"PAD\"], padding='post', truncating='post')"
   ]
  },
  {
   "cell_type": "markdown",
   "metadata": {},
   "source": [
    "We'll do the same thing for our `TAG` values which are the labels for the named entities"
   ]
  },
  {
   "cell_type": "code",
   "execution_count": 12,
   "metadata": {},
   "outputs": [],
   "source": [
    "y = [[tag2idx[w] for w in s] for s in y]\n",
    "y = pad_sequences(maxlen=max_len, sequences=y, value=tag2idx[\"PAD\"], padding='post', truncating='post')\n"
   ]
  },
  {
   "cell_type": "markdown",
   "metadata": {},
   "source": [
    "Word embeddings are great, and we've accounted for unknown words with the \"UNK\" value in the lookup dictionary.  But these are rather inflexible as misspellings, slightly different spellings, and other variations on words will all be funneled into the \"UNK\" value.  We'd also like our model to be able to account for words that are closely related to things we've seen in the past.  To do this, we can build an additional input called a __character embedding__.  \n",
    "\n",
    "Character embeddings take all of the unique characters in our dataset and map them to a lookup table.  Then, we use a neural network at the character input to read all of the characters in a word and produce a vector that gives a layer of meaning on the characters contained within each word itself.  \n",
    "\n",
    "At the end, we conatenate the __word__ and __character__ embeddings together for a unified word-character embedding that has a vector with information about all of the words we know exist, and relationships about sequences of characters that we've seen before.  The result of this is a much more flexible input embedding that doesn't simply ignore unknown words, but uses the information from their character embeddings to place them in our vector space in proximity to knowns words that we've seen before.  In classical NLP we may use something like __Levenshtein Distance__ (https://en.wikipedia.org/wiki/Levenshtein_distance) to accomplish this, but here we're going to build this understanding into the input layers of our neural network so it can learn it by itself."
   ]
  },
  {
   "cell_type": "markdown",
   "metadata": {},
   "source": [
    "Ok, that was a lot.  But, before we come up with a character lookup dictionary we need to define a static character length input, similar to how we defined `max_len` for words, as our neural network's character input will also have a fixed dimensionality"
   ]
  },
  {
   "cell_type": "code",
   "execution_count": 13,
   "metadata": {},
   "outputs": [
    {
     "data": {
      "text/plain": [
       "Text(0.5,1,'Mean=4.77, Median=4.0, StDev=2.82, Max=64, Min=1')"
      ]
     },
     "execution_count": 13,
     "metadata": {},
     "output_type": "execute_result"
    },
    {
     "data": {
      "image/png": "[encoded data removed]",
      "text/plain": [
       "<Figure size 576x576 with 1 Axes>"
      ]
     },
     "metadata": {
      "needs_background": "light"
     },
     "output_type": "display_data"
    }
   ],
   "source": [
    "plt.figure(figsize=(8,8))\n",
    "word_char_lens = data['Word'].apply(len)\n",
    "word_char_lens.hist(bins=30)\n",
    "avg_word_length = word_char_lens.mean().round(2)\n",
    "med_word_length = word_char_lens.median().round(2)\n",
    "std_word_length = word_char_lens.std().round(2)\n",
    "min_word_length = word_char_lens.min()\n",
    "max_word_length = word_char_lens.max()\n",
    "plt.ylabel('Counts',fontsize=15)\n",
    "plt.xlabel('Characters per word',fontsize=15)\n",
    "plt.xticks(fontsize=15)\n",
    "plt.yticks(fontsize=15)\n",
    "plt.title(\n",
    "    'Mean={}, Median={}, StDev={}, Max={}, Min={}'.format(\n",
    "        avg_word_length,\n",
    "        med_word_length,\n",
    "        std_word_length,\n",
    "        max_word_length,\n",
    "        min_word_length\n",
    "    ),\n",
    "    fontsize=15\n",
    ")"
   ]
  },
  {
   "cell_type": "markdown",
   "metadata": {},
   "source": [
    "Ok, so most of our words are on average 4-5 characters long.  But there's a word that's __64__ characters long!  What?  Let's see what the extraordinarily long words in our corpus are. "
   ]
  },
  {
   "cell_type": "code",
   "execution_count": 14,
   "metadata": {},
   "outputs": [
    {
     "data": {
      "text/plain": [
       "2895                              internationally-recognized\n",
       "158260                           cricketer-turned-politician\n",
       "196093     https://www.celebritiesforcharity.org/raffles/...\n",
       "438072                            presidential-parliamentary\n",
       "897232                            internationally-recognized\n",
       "1006194                           internationally-recognized\n",
       "Name: Word, dtype: object"
      ]
     },
     "execution_count": 14,
     "metadata": {},
     "output_type": "execute_result"
    }
   ],
   "source": [
    "data[data['Word'].apply(len)>25]['Word']"
   ]
  },
  {
   "cell_type": "markdown",
   "metadata": {},
   "source": [
    "Whew, now we can see that the 64 character long word is a website.  Other long words are contractions.  That makes sense.  We could deal with this more systematically, but since these instances are rare and beyond the scope of this exercise we'll just leave them be for now.\n",
    "\n",
    "Ok, now that we've got an idea of the length of the words in our corpus, let's define a maximum character length. We'll go about this the same way we went about defining the max sentence length.  Let's see how many words with > 10 characters we have."
   ]
  },
  {
   "cell_type": "code",
   "execution_count": 15,
   "metadata": {},
   "outputs": [
    {
     "data": {
      "text/plain": [
       "10    29468\n",
       "11    16020\n",
       "12     8087\n",
       "13     4978\n",
       "14     2444\n",
       "15      809\n",
       "16      416\n",
       "17      413\n",
       "18      202\n",
       "19       82\n",
       "20       43\n",
       "21       39\n",
       "22       12\n",
       "23        4\n",
       "24        5\n",
       "26        4\n",
       "27        1\n",
       "64        1\n",
       "Name: Word, dtype: int64"
      ]
     },
     "execution_count": 15,
     "metadata": {},
     "output_type": "execute_result"
    }
   ],
   "source": [
    "data[data['Word'].apply(len)>=10]['Word'].apply(len).value_counts().sort_index()"
   ]
  },
  {
   "cell_type": "markdown",
   "metadata": {},
   "source": [
    "Looks like words that are longer than 15 characters become exceedingly rare.  Let's set our max_char_len to 15."
   ]
  },
  {
   "cell_type": "code",
   "execution_count": 16,
   "metadata": {},
   "outputs": [],
   "source": [
    "max_len_char = 15"
   ]
  },
  {
   "cell_type": "markdown",
   "metadata": {},
   "source": [
    "Finally, we can define our character lookup table."
   ]
  },
  {
   "cell_type": "code",
   "execution_count": 17,
   "metadata": {},
   "outputs": [],
   "source": [
    "#First get all of the unique characters in all of our words\n",
    "chars = set([c for w in words for c in w])\n",
    "#define n_chars for our neural network's inputs later\n",
    "n_chars = len(chars)\n",
    "#now make a character lookup dictionary\n",
    "char2idx = {c: i + 2 for i, c in enumerate(chars)}\n",
    "#give ourselves flexibility to accept unknown chars and define a padding character\n",
    "char2idx[\"UNK\"] = 1\n",
    "char2idx[\"PAD\"] = 0\n",
    "X_char = []\n",
    "for sentence in X.tolist():\n",
    "    sent_seq = []\n",
    "    for i in range(max_len):\n",
    "        word_seq = []\n",
    "        for j in range(max_len_char):\n",
    "            try:\n",
    "                word_seq.append(char2idx.get(sentence[i][0][j]))\n",
    "            except:\n",
    "                word_seq.append(char2idx.get(\"PAD\"))\n",
    "        sent_seq.append(word_seq)\n",
    "    X_char.append(np.array(sent_seq))"
   ]
  },
  {
   "cell_type": "markdown",
   "metadata": {},
   "source": [
    "Ok, we've got the data into a format that can be fed into our model.  Now let's split off 10% of the data into a `test` set, which we'll withold from our model during training.  We'll use this `test` set later to see how well our model generalizes to data that it's never seen before."
   ]
  },
  {
   "cell_type": "code",
   "execution_count": 18,
   "metadata": {},
   "outputs": [],
   "source": [
    "from sklearn.model_selection import train_test_split\n",
    "\n",
    "X_word_tr, X_word_te, y_tr, y_te = train_test_split(X_word, y, test_size=0.1, random_state=2018)\n",
    "X_char_tr, X_char_te, _, _ = train_test_split(X_char, y, test_size=0.1, random_state=2018)"
   ]
  },
  {
   "cell_type": "markdown",
   "metadata": {},
   "source": [
    "# Build a Model"
   ]
  },
  {
   "cell_type": "markdown",
   "metadata": {},
   "source": [
    "Let's start building a model.  "
   ]
  },
  {
   "cell_type": "markdown",
   "metadata": {},
   "source": [
    "![Network Architecture](figures/network_architecture.png)"
   ]
  },
  {
   "cell_type": "markdown",
   "metadata": {},
   "source": [
    "Reference: https://arxiv.org/abs/1511.08308"
   ]
  },
  {
   "cell_type": "code",
   "execution_count": 20,
   "metadata": {},
   "outputs": [
    {
     "name": "stdout",
     "output_type": "stream",
     "text": [
      "WARNING:tensorflow:From /Users/bensuutari/Documents/miami_datascience_meetup/miami/lib/python3.7/site-packages/tensorflow/python/framework/op_def_library.py:263: colocate_with (from tensorflow.python.framework.ops) is deprecated and will be removed in a future version.\n",
      "Instructions for updating:\n",
      "Colocations handled automatically by placer.\n",
      "WARNING:tensorflow:From /Users/bensuutari/Documents/miami_datascience_meetup/miami/lib/python3.7/site-packages/keras/backend/tensorflow_backend.py:3445: calling dropout (from tensorflow.python.ops.nn_ops) with keep_prob is deprecated and will be removed in a future version.\n",
      "Instructions for updating:\n",
      "Please use `rate` instead of `keep_prob`. Rate should be set to `rate = 1 - keep_prob`.\n",
      "__________________________________________________________________________________________________\n",
      "Layer (type)                    Output Shape         Param #     Connected to                     \n",
      "==================================================================================================\n",
      "input_2 (InputLayer)            (None, 75, 15)       0                                            \n",
      "__________________________________________________________________________________________________\n",
      "time_distributed_1 (TimeDistrib (None, 75, 15, 7)    700         input_2[0][0]                    \n",
      "__________________________________________________________________________________________________\n",
      "dropout_1 (Dropout)             (None, 75, 15, 7)    0           time_distributed_1[0][0]         \n",
      "__________________________________________________________________________________________________\n",
      "time_distributed_2 (TimeDistrib (None, 75, 15, 30)   660         dropout_1[0][0]                  \n",
      "__________________________________________________________________________________________________\n",
      "time_distributed_3 (TimeDistrib (None, 75, 5, 30)    0           time_distributed_2[0][0]         \n",
      "__________________________________________________________________________________________________\n",
      "input_1 (InputLayer)            (None, 75)           0                                            \n",
      "__________________________________________________________________________________________________\n",
      "time_distributed_4 (TimeDistrib (None, 75, 150)      0           time_distributed_3[0][0]         \n",
      "__________________________________________________________________________________________________\n",
      "embedding_1 (Embedding)         (None, 75, 14)       492520      input_1[0][0]                    \n",
      "__________________________________________________________________________________________________\n",
      "dropout_2 (Dropout)             (None, 75, 150)      0           time_distributed_4[0][0]         \n",
      "__________________________________________________________________________________________________\n",
      "concatenate_1 (Concatenate)     (None, 75, 164)      0           embedding_1[0][0]                \n",
      "                                                                 dropout_2[0][0]                  \n",
      "__________________________________________________________________________________________________\n",
      "spatial_dropout1d_1 (SpatialDro (None, 75, 164)      0           concatenate_1[0][0]              \n",
      "__________________________________________________________________________________________________\n",
      "bidirectional_1 (Bidirectional) (None, 75, 128)      117248      spatial_dropout1d_1[0][0]        \n",
      "__________________________________________________________________________________________________\n",
      "time_distributed_5 (TimeDistrib (None, 75, 12)       1548        bidirectional_1[0][0]            \n",
      "==================================================================================================\n",
      "Total params: 612,676\n",
      "Trainable params: 612,676\n",
      "Non-trainable params: 0\n",
      "__________________________________________________________________________________________________\n"
     ]
    }
   ],
   "source": [
    "from keras.models import Model, Input\n",
    "from keras.layers import LSTM, Embedding, Dense, TimeDistributed, Dropout, Conv1D, Flatten\n",
    "from keras.layers import Bidirectional, concatenate, SpatialDropout1D, MaxPooling1D\n",
    "import math\n",
    "\n",
    "def create_model_cnn_lstm():\n",
    "    word_in = Input(shape=(max_len,))\n",
    "    emb_word = Embedding(input_dim=len(word2idx)+1, output_dim=math.ceil((len(word2idx)+1) ** 0.25),\n",
    "                         input_length=max_len, mask_zero=False)(word_in)\n",
    "\n",
    "    # input and embeddings for characters\n",
    "    char_in = Input(shape=(max_len, max_len_char,))\n",
    "    emb_char = TimeDistributed(\n",
    "        Embedding(\n",
    "            input_dim=len(char2idx), \n",
    "            output_dim=math.ceil(math.ceil((len(word2idx)+1) ** 0.25)/2),\n",
    "            input_length=max_len_char, \n",
    "            mask_zero=False\n",
    "        )\n",
    "    )(char_in)\n",
    "    # character LSTM to get word encodings by characters\n",
    "    dropout= Dropout(0.5)(emb_char)\n",
    "    conv1d_out= TimeDistributed(Conv1D(kernel_size=3, filters=30, padding='same',activation='tanh', strides=1))(dropout)\n",
    "    maxpool_out=TimeDistributed(MaxPooling1D(3))(conv1d_out)\n",
    "    char_enc = TimeDistributed(Flatten())(maxpool_out)\n",
    "    char_enc = Dropout(0.5)(char_enc)\n",
    "\n",
    "    x = concatenate([emb_word, char_enc])\n",
    "    \n",
    "    #drop_out = Dropout(0.5)(x)\n",
    "\n",
    "    spat_dropout = SpatialDropout1D(0.3)(x)\n",
    "    main_lstm = Bidirectional(\n",
    "        LSTM(\n",
    "            units=64, \n",
    "            return_sequences=True,\n",
    "            recurrent_dropout=0.6\n",
    "        )\n",
    "    )(spat_dropout)\n",
    "    \n",
    "    out = TimeDistributed(Dense(len(tag2idx), activation=\"softmax\"))(main_lstm)\n",
    "    model = Model([word_in, char_in], out)\n",
    "    model.compile(optimizer=\"adam\", loss=\"sparse_categorical_crossentropy\")\n",
    "    model.summary()\n",
    "    return model\n",
    "\n",
    "\n",
    "model = create_model_cnn_lstm()\n"
   ]
  },
  {
   "cell_type": "code",
   "execution_count": 21,
   "metadata": {},
   "outputs": [
    {
     "name": "stdout",
     "output_type": "stream",
     "text": [
      "WARNING:tensorflow:From /Users/bensuutari/Documents/miami_datascience_meetup/miami/lib/python3.7/site-packages/tensorflow/python/ops/math_ops.py:3066: to_int32 (from tensorflow.python.ops.math_ops) is deprecated and will be removed in a future version.\n",
      "Instructions for updating:\n",
      "Use tf.cast instead.\n",
      "Train on 38846 samples, validate on 4317 samples\n",
      "Epoch 1/100\n",
      "38846/38846 [==============================] - 116s 3ms/step - loss: 0.1705 - val_loss: 0.0667\n",
      "Epoch 2/100\n",
      "38846/38846 [==============================] - 112s 3ms/step - loss: 0.0537 - val_loss: 0.0374\n",
      "Epoch 3/100\n",
      "38846/38846 [==============================] - 112s 3ms/step - loss: 0.0358 - val_loss: 0.0315\n",
      "Epoch 4/100\n",
      "38846/38846 [==============================] - 112s 3ms/step - loss: 0.0297 - val_loss: 0.0302\n",
      "Epoch 5/100\n",
      "38846/38846 [==============================] - 108s 3ms/step - loss: 0.0267 - val_loss: 0.0287\n",
      "Epoch 6/100\n",
      "38846/38846 [==============================] - 116s 3ms/step - loss: 0.0248 - val_loss: 0.0282\n",
      "Epoch 7/100\n",
      "38846/38846 [==============================] - 120s 3ms/step - loss: 0.0233 - val_loss: 0.0282\n",
      "Epoch 8/100\n",
      "38846/38846 [==============================] - 122s 3ms/step - loss: 0.0223 - val_loss: 0.0281\n",
      "Epoch 9/100\n",
      "38846/38846 [==============================] - 120s 3ms/step - loss: 0.0213 - val_loss: 0.0282\n",
      "Epoch 10/100\n",
      "38846/38846 [==============================] - 126s 3ms/step - loss: 0.0208 - val_loss: 0.0278\n",
      "Epoch 11/100\n",
      "38846/38846 [==============================] - 120s 3ms/step - loss: 0.0201 - val_loss: 0.0282\n",
      "Epoch 12/100\n",
      "38846/38846 [==============================] - 118s 3ms/step - loss: 0.0196 - val_loss: 0.0283\n",
      "Epoch 13/100\n",
      "38846/38846 [==============================] - 117s 3ms/step - loss: 0.0191 - val_loss: 0.0281\n"
     ]
    }
   ],
   "source": [
    "from keras.callbacks import EarlyStopping,ModelCheckpoint\n",
    "from keras.models import load_model\n",
    "\n",
    "callbacks = [\n",
    "    EarlyStopping(\n",
    "        monitor='val_loss', \n",
    "        patience=3\n",
    "    ),\n",
    "    ModelCheckpoint(\n",
    "        filepath='models/ner_checkpoint.h5', \n",
    "        monitor='val_loss', \n",
    "        save_best_only=True\n",
    "    )\n",
    "]\n",
    "\n",
    "\n",
    "\n",
    "history = model.fit([X_word_tr,\n",
    "                     np.array(X_char_tr).reshape((len(X_char_tr), max_len, max_len_char))],\n",
    "                    np.array(y_tr).reshape(len(y_tr), max_len,1),\n",
    "                    batch_size=32, \n",
    "                    epochs=100, \n",
    "                    validation_split=0.1, \n",
    "                    callbacks = callbacks, \n",
    "                    verbose=1\n",
    ")\n"
   ]
  },
  {
   "cell_type": "markdown",
   "metadata": {},
   "source": [
    "# 3. Validation"
   ]
  },
  {
   "cell_type": "markdown",
   "metadata": {},
   "source": [
    "At long last, we can use the model to predict the labels for our test set.  "
   ]
  },
  {
   "cell_type": "code",
   "execution_count": 22,
   "metadata": {},
   "outputs": [],
   "source": [
    "y_pred = np.argmax(\n",
    "    model.predict(\n",
    "        [X_word_te,np.array(X_char_te).reshape((len(X_char_te), max_len, max_len_char))]\n",
    "    ),\n",
    "    axis=-1\n",
    ")"
   ]
  },
  {
   "cell_type": "markdown",
   "metadata": {},
   "source": [
    "And we'll use a confusion matrix to see how we did on each `Tag`"
   ]
  },
  {
   "cell_type": "code",
   "execution_count": 23,
   "metadata": {},
   "outputs": [],
   "source": [
    "import matplotlib.pyplot as plt\n",
    "import numpy as np\n",
    "import itertools\n",
    "\n",
    "def plot_confusion_matrix(cm, \n",
    "                          classes,\n",
    "                          normalize=False,\n",
    "                          title='Confusion matrix',\n",
    "                          save_file = 'confusion_matrix',\n",
    "                          cmap=plt.cm.Blues):\n",
    "    \"\"\"\n",
    "    This function prints and plots the confusion matrix.\n",
    "    Normalization can be applied by setting `normalize=True`.\n",
    "    --inputs--\n",
    "    cm - the confusion matrix produced by sklearns confusion_matrix function\n",
    "    classes - the labels for the classes in the confusion matrix\n",
    "\n",
    "    --outputs--\n",
    "    matplotlib figure displaying the confusion matrix, and the saved png of the figure\n",
    "\n",
    "    \"\"\"\n",
    "    if normalize:\n",
    "        cm = cm.astype('float') / cm.sum(axis=1)[:, np.newaxis]\n",
    "        print(\"Normalized confusion matrix\")\n",
    "    else:\n",
    "        print('Confusion matrix, without normalization')\n",
    "\n",
    "    #print(cm)\n",
    "    plt.figure(figsize=(8,8))\n",
    "    plt.imshow(cm, interpolation='nearest', cmap=cmap)\n",
    "    plt.title(title)\n",
    "    plt.colorbar()\n",
    "    tick_marks = np.arange(len(classes))\n",
    "    plt.xticks(tick_marks, classes, rotation=90)\n",
    "    plt.yticks(tick_marks, classes)\n",
    " \n",
    "\n",
    "\n",
    "    fmt = '.2f' if normalize else 'd'\n",
    "    thresh = cm.max() / 2.\n",
    "    for i, j in itertools.product(range(cm.shape[0]), range(cm.shape[1])):\n",
    "        plt.text(j, i, format(cm[i, j], fmt),\n",
    "                 horizontalalignment=\"center\",\n",
    "                 color=\"white\" if cm[i, j] > thresh else \"black\")\n",
    "\n",
    "    plt.ylabel('True label')\n",
    "    plt.xlabel('Predicted label')\n",
    "    plt.tight_layout()\n",
    "    #plt.savefig('figures/{}.png'.format(save_file))\n",
    "    plt.show()"
   ]
  },
  {
   "cell_type": "code",
   "execution_count": 24,
   "metadata": {},
   "outputs": [
    {
     "name": "stdout",
     "output_type": "stream",
     "text": [
      "Normalized confusion matrix\n"
     ]
    },
    {
     "data": {
      "image/png": "[encoded data removed]",
      "text/plain": [
       "<Figure size 576x576 with 2 Axes>"
      ]
     },
     "metadata": {
      "needs_background": "light"
     },
     "output_type": "display_data"
    }
   ],
   "source": [
    "from sklearn.metrics import confusion_matrix\n",
    "\n",
    "def switch_keys_values_dict(d):\n",
    "    switch_dict = dict()\n",
    "    for t in tag2idx.keys():\n",
    "        switch_dict[d[t]] = t\n",
    "    return switch_dict\n",
    "        \n",
    "idx2tag = switch_keys_values_dict(tag2idx)\n",
    "\n",
    "labels = list()\n",
    "for i in range(0,len(idx2tag)):\n",
    "    labels.append(idx2tag[i])\n",
    "y_pred = np.argmax(model.predict([X_word_te,np.array(X_char_te).reshape((len(X_char_te), max_len, max_len_char))]),axis=-1)\n",
    "pred_labels = y_pred.reshape(y_pred.shape[0]*y_pred.shape[1])\n",
    "\n",
    "test_labels = y_te.reshape(y_te.shape[0]*y_te.shape[1])\n",
    "\n",
    "\n",
    "cnf_matrix = confusion_matrix(test_labels,pred_labels)\n",
    "cnf_title = 'Bi-LSTM with Character+Word Embedding'\n",
    "save_all = 'confusion_matrix_all'\n",
    "plot_confusion_matrix(\n",
    "    cnf_matrix, \n",
    "    classes=labels, \n",
    "    normalize=True,\n",
    "    title=cnf_title,\n",
    "    save_file=save_all\n",
    ")"
   ]
  },
  {
   "cell_type": "markdown",
   "metadata": {},
   "source": [
    "Let's summarize some of the confusion matrix output in a classification report, which will give us precision, recall, and f1 per class."
   ]
  },
  {
   "cell_type": "code",
   "execution_count": 25,
   "metadata": {},
   "outputs": [
    {
     "name": "stdout",
     "output_type": "stream",
     "text": [
      "              precision    recall  f1-score   support\n",
      "\n",
      "       B-geo       0.85      0.91      0.88      3735\n",
      "       B-gpe       0.96      0.94      0.95      1596\n",
      "       B-org       0.80      0.72      0.76      2071\n",
      "       B-per       0.85      0.82      0.84      1694\n",
      "       B-tim       0.91      0.90      0.90      2158\n",
      "       I-geo       0.79      0.83      0.81       707\n",
      "       I-gpe       1.00      0.56      0.72        16\n",
      "       I-org       0.82      0.77      0.80      1786\n",
      "       I-per       0.86      0.87      0.87      1739\n",
      "       I-tim       0.81      0.77      0.79       726\n",
      "           O       0.99      0.99      0.99     89329\n",
      "         PAD       1.00      1.00      1.00    254143\n",
      "\n",
      "   micro avg       0.99      0.99      0.99    359700\n",
      "   macro avg       0.89      0.84      0.86    359700\n",
      "weighted avg       0.99      0.99      0.99    359700\n",
      "\n"
     ]
    }
   ],
   "source": [
    "from sklearn.metrics import classification_report\n",
    "#Let's use pandas to map our numerical labels to text labels\n",
    "label_df = pd.DataFrame(columns = ['true','predicted'])\n",
    "label_df['true'] = test_labels\n",
    "label_df['predicted'] = pred_labels\n",
    "\n",
    "label_df['true']  = label_df['true'].map(idx2tag)\n",
    "label_df['predicted'] = label_df['predicted'].map(idx2tag)\n",
    "print(classification_report(label_df['true'].values,label_df['predicted'].values))\n"
   ]
  },
  {
   "cell_type": "markdown",
   "metadata": {},
   "source": [
    "# 4. Conclusion"
   ]
  },
  {
   "cell_type": "markdown",
   "metadata": {},
   "source": [
    "To finish things off, let's write couple simple functions that can take in any arbitrary string, transform it to the inputs we need for our model, and output a human-readable list of the words and their predicted entities."
   ]
  },
  {
   "cell_type": "code",
   "execution_count": 25,
   "metadata": {},
   "outputs": [],
   "source": [
    "def prepare_text_inputs(text):\n",
    "    input_text_split = [text.split(' ')]\n",
    "    X_char_input_text = []\n",
    "    for sentence in input_text_split:\n",
    "        sent_seq = []\n",
    "        for i in range(max_len):\n",
    "            word_seq = []\n",
    "            for j in range(max_len_char):\n",
    "                try:\n",
    "                    word_seq.append(char2idx.get(sentence[i][0][j]))\n",
    "                except:\n",
    "                    word_seq.append(char2idx.get(\"PAD\"))\n",
    "            sent_seq.append(word_seq)\n",
    "        X_char_input_text.append(np.array(sent_seq))\n",
    "\n",
    "    X_word_input_text = list()\n",
    "    for i in input_text_split:\n",
    "        word_seq = list()\n",
    "        for w in i:\n",
    "            if w not in word2idx.keys():\n",
    "                word_seq.append(word2idx['UNK'])\n",
    "\n",
    "            else:\n",
    "                word_seq.append(word2idx[w])\n",
    "        X_word_input_text.append(word_seq)\n",
    "    X_word_input_text = pad_sequences(maxlen=max_len, sequences=X_word_input_text, value=word2idx[\"PAD\"], padding='post', truncating='post')\n",
    "    return X_char_input_text,X_word_input_text,input_text_split"
   ]
  },
  {
   "cell_type": "code",
   "execution_count": 26,
   "metadata": {},
   "outputs": [],
   "source": [
    "def predict_entities(text):\n",
    "    char_in,word_in,sent_list = prepare_text_inputs(text)\n",
    "    y_pred_input_text = np.argmax(\n",
    "        model.predict(\n",
    "            [word_in,np.array(char_in).reshape((len(char_in), max_len, max_len_char))]\n",
    "        ),\n",
    "        axis=-1\n",
    "    )\n",
    "    for sent in range(len(sent_list)):\n",
    "        for w_idx in range(len(sent_list[sent])):\n",
    "            print(sent_list[sent][w_idx],idx2tag[y_pred_input_text[sent][w_idx]])"
   ]
  },
  {
   "cell_type": "code",
   "execution_count": 27,
   "metadata": {},
   "outputs": [
    {
     "name": "stdout",
     "output_type": "stream",
     "text": [
      "Miami B-org\n",
      "Dade I-org\n",
      "College I-org\n",
      "was O\n",
      "established O\n",
      "in O\n",
      "1959 B-tim\n",
      "and O\n",
      "opened O\n",
      "in O\n",
      "1960 B-tim\n",
      "as O\n",
      "Dade B-org\n",
      "County I-org\n",
      "Junior I-org\n",
      "College. I-org\n"
     ]
    }
   ],
   "source": [
    "predict_entities(\"Miami Dade College was established in 1959 and opened in 1960 as Dade County Junior College.\")\n",
    "\n"
   ]
  },
  {
   "cell_type": "code",
   "execution_count": null,
   "metadata": {},
   "outputs": [],
   "source": []
  }
 ],
 "metadata": {
  "kernelspec": {
   "display_name": "Python 3",
   "language": "python",
   "name": "python3"
  },
  "language_info": {
   "codemirror_mode": {
    "name": "ipython",
    "version": 3
   },
   "file_extension": ".py",
   "mimetype": "text/x-python",
   "name": "python",
   "nbconvert_exporter": "python",
   "pygments_lexer": "ipython3",
   "version": "3.7.4"
  }
 },
 "nbformat": 4,
 "nbformat_minor": 2
}
